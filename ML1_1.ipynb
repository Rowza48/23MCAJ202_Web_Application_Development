{
  "nbformat": 4,
  "nbformat_minor": 0,
  "metadata": {
    "colab": {
      "provenance": [],
      "authorship_tag": "ABX9TyMNWpLyCoLholGkfsIMU2H+",
      "include_colab_link": true
    },
    "kernelspec": {
      "name": "python3",
      "display_name": "Python 3"
    },
    "language_info": {
      "name": "python"
    }
  },
  "cells": [
    {
      "cell_type": "markdown",
      "metadata": {
        "id": "view-in-github",
        "colab_type": "text"
      },
      "source": [
        "<a href=\"https://colab.research.google.com/github/Rowza48/23MCAJ202_Web_Application_Development/blob/main/ML1_1.ipynb\" target=\"_parent\"><img src=\"https://colab.research.google.com/assets/colab-badge.svg\" alt=\"Open In Colab\"/></a>"
      ]
    },
    {
      "cell_type": "code",
      "execution_count": 3,
      "metadata": {
        "colab": {
          "base_uri": "https://localhost:8080/"
        },
        "id": "eD1T8l6ZTP25",
        "outputId": "c9ad362b-1f67-4773-9653-4a8f0adf6d32"
      },
      "outputs": [
        {
          "output_type": "stream",
          "name": "stdout",
          "text": [
            "Mean values:\n",
            " sepal_length    5.843333\n",
            "sepal_width     3.054000\n",
            "petal_length    3.758667\n",
            "petal_width     1.198667\n",
            "dtype: float64\n",
            "\n",
            "Median values:\n",
            " sepal_length    5.80\n",
            "sepal_width     3.00\n",
            "petal_length    4.35\n",
            "petal_width     1.30\n",
            "dtype: float64\n",
            "\n",
            "Mode values:\n",
            " sepal_length    5.0\n",
            "sepal_width     3.0\n",
            "petal_length    1.5\n",
            "petal_width     0.2\n",
            "Name: 0, dtype: float64\n"
          ]
        }
      ],
      "source": [
        "import pandas as pd\n",
        "\n",
        "# Load dataset\n",
        "col_names = ['sepal_length', 'sepal_width', 'petal_length', 'petal_width', 'species']\n",
        "iris = pd.read_csv(\"iris.csv\", header=None, names=col_names)\n",
        "\n",
        "# Remove missing rows if any\n",
        "iris = iris.dropna()\n",
        "\n",
        "# Convert numeric columns to numbers\n",
        "for col in col_names[:4]:\n",
        "    iris[col] = pd.to_numeric(iris[col], errors='coerce')\n",
        "\n",
        "# Mean\n",
        "mean_values = iris.iloc[:, 0:4].mean()\n",
        "\n",
        "# Median\n",
        "median_values = iris.iloc[:, 0:4].median()\n",
        "\n",
        "# Mode\n",
        "mode_values = iris.iloc[:, 0:4].mode().iloc[0]  # mode() returns DataFrame\n",
        "\n",
        "print(\"Mean values:\\n\", mean_values)\n",
        "print(\"\\nMedian values:\\n\", median_values)\n",
        "print(\"\\nMode values:\\n\", mode_values)\n"
      ]
    }
  ]
}